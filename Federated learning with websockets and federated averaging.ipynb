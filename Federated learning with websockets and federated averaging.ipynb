{
 "cells": [
  {
   "cell_type": "code",
   "execution_count": 1,
   "metadata": {
    "tags": [
     "parameters"
    ],
    "pycharm": {
     "is_executing": false
    }
   },
   "outputs": [],
   "source": [
    "# Please ignore these variable, they only provide options for our CI system.\n",
    "args = []\n",
    "abort_after_one = False"
   ]
  },
  {
   "cell_type": "markdown",
   "metadata": {},
   "source": [
    "# Tutorial: Federated learning with websockets and federated averaging with possible solutions for problem you might face\n",
    "\n",
    "This notebook will discuss detailed steps and problems you might face when going through these steps\n",
    "\n",
    "Make sure you have correct websocket-client library because if you have another websocket library installed on top of websocket-client when you run this command ``` import websocket ``` it try will access that additional websocket library first because websocket-client is also called imported into your python script by ``` import websocket ``` and when you try to create connection with this command ``` websocket.create_connection() ``` this causes websocket don't have any module named create_connection\n",
    "Solution: in terminal activate that environment where syft is installed run ```pip uninstall websocket``` to remove any additional websocket libraries then run ```pip install --upgrade websocket_client```\n",
    "\n",
    "Authors:\n",
    "- midokura-silvia\n",
    "\n"
   ]
  },
  {
   "cell_type": "markdown",
   "metadata": {},
   "source": [
    "## Preparation: start the websocket server workers\n",
    "\n",
    "Each worker is represented by two parts, a local handle (websocket client worker) and the remote instance that holds the data and performs the computations. The remote part is called a websocket server worker.\n",
    "\n",
    "So first, you need to ```cd``` to the folder where this notebook and other additional files for running server and client are \n",
    "\n",
    "for example\n",
    "in windows 10  \n",
    ">cd (path till projects directory) \\python_projects\\websockets-example-MNIST\n",
    "\n",
    "Note: Don't copy paste the path above because this is purely for the sake example your path may differ depending on your OS and project folder\n",
    " \n",
    "\n",
    "\n",
    "because if you don't when you try to run ```python start_websocket_servers.py``` command in terminal this script open sub processes with python which runs other scripts that starts websocket server workers and only the name of the file with its extension is mentioned because the file's path may vary.\n",
    "we need to create the remote workers. For this, you need to run in a terminal (not possible from the notebook):\n",
    "\n",
    "```bash\n",
    "python start_websocket_servers.py\n",
    "```"
   ]
  },
  {
   "cell_type": "markdown",
   "metadata": {},
   "source": [
    "## Setting up the websocket client workers"
   ]
  },
  {
   "cell_type": "markdown",
   "metadata": {},
   "source": [
    "We first need to perform the imports and setup some arguments and variables."
   ]
  },
  {
   "cell_type": "code",
   "execution_count": 2,
   "metadata": {
    "pycharm": {
     "is_executing": false
    }
   },
   "outputs": [],
   "source": [
    "%load_ext autoreload\n",
    "%autoreload 2"
   ]
  },
  {
   "cell_type": "code",
   "execution_count": 3,
   "metadata": {
    "pycharm": {
     "is_executing": false
    }
   },
   "outputs": [],
   "source": [
    "import sys\n",
    "import syft as sy\n",
    "from syft.workers.websocket_client import WebsocketClientWorker\n",
    "import torch\n",
    "from torchvision import datasets, transforms\n",
    "\n",
    "from syft.frameworks.torch.fl import *"
   ]
  },
  {
   "cell_type": "code",
   "execution_count": 4,
   "metadata": {
    "pycharm": {
     "is_executing": false
    }
   },
   "outputs": [],
   "source": [
    "import run_websocket_client as rwc"
   ]
  },
  {
   "cell_type": "code",
   "execution_count": 5,
   "metadata": {
    "pycharm": {
     "is_executing": false
    }
   },
   "outputs": [
    {
     "name": "stdout",
     "text": [
      "Namespace(batch_size=64, cuda=False, epochs=2, federate_after_n_batches=50, lr=0.01, save_model=False, seed=1, test_batch_size=1000, use_virtual=False, verbose=False)\n"
     ],
     "output_type": "stream"
    }
   ],
   "source": [
    "args = rwc.define_and_get_arguments(args=args)\n",
    "use_cuda = args.cuda and torch.cuda.is_available()\n",
    "torch.manual_seed(args.seed)\n",
    "device = torch.device(\"cuda\" if use_cuda else \"cpu\")\n",
    "print(args)"
   ]
  },
  {
   "cell_type": "markdown",
   "metadata": {},
   "source": [
    "Now let's instantiate the websocket client workers, our local access point to the remote workers.\n",
    "Note that **this step will fail, if the websocket server workers are not running**."
   ]
  },
  {
   "cell_type": "code",
   "execution_count": 6,
   "metadata": {
    "pycharm": {
     "is_executing": false
    }
   },
   "outputs": [
    {
     "name": "stdout",
     "text": [
      "[<WebsocketClientWorker id:alice #tensors local:0 #tensors remote: 0>, <WebsocketClientWorker id:bob #tensors local:0 #tensors remote: 0>, <WebsocketClientWorker id:charlie #tensors local:0 #tensors remote: 0>]\n"
     ],
     "output_type": "stream"
    }
   ],
   "source": [
    "hook = sy.TorchHook(torch)\n",
    "\n",
    "kwargs_websocket = {\"host\": \"localhost\", \"hook\": hook, \"verbose\": args.verbose}\n",
    "alice = WebsocketClientWorker(id=\"alice\", port=8777, **kwargs_websocket)\n",
    "bob = WebsocketClientWorker(id=\"bob\", port=8778, **kwargs_websocket)\n",
    "charlie = WebsocketClientWorker(id=\"charlie\", port=8779, **kwargs_websocket)\n",
    "\n",
    "workers = [alice, bob, charlie]\n",
    "print(workers)\n"
   ]
  },
  {
   "cell_type": "markdown",
   "metadata": {},
   "source": [
    "## Prepare and distribute the training data\n",
    "\n",
    "We will use the MNIST dataset and distribute the data randomly onto the workers. \n",
    "This is not realistic for a federated training setup, where the data would normally already be available at the remote workers.\n",
    "\n",
    "We instantiate two FederatedDataLoaders, one for the train and one for the test set of the MNIST dataset.\n",
    "\n",
    "*If you run into BrokenPipe errors go to the parrent directory of the directory where your project is and delete data folder then restart notebook and try again if the error comes again delete that data folder again run the following command*\n",
    "\n",
    "for example directory for data \n",
    "\n",
    ">(path till projects directory) \\python_projects\\\n",
    "\n",
    "directory for project notebook and scripts\n",
    "\n",
    ">(path till projects directory) \\python_projects\\websockets-example-MNIST\n",
    "\n",
    "Note: Don't copy paste the path above because this is purely for the sake example your path may differ depending on your OS and project folder\n"
   ]
  },
  {
   "cell_type": "code",
   "execution_count": 7,
   "metadata": {
    "pycharm": {
     "is_executing": false
    }
   },
   "outputs": [
    {
     "name": "stdout",
     "text": [
      "Downloading http://yann.lecun.com/exdb/mnist/train-images-idx3-ubyte.gz to ../data\\MNIST\\raw\\train-images-idx3-ubyte.gz\n",
      "Extracting ../data\\MNIST\\raw\\train-images-idx3-ubyte.gz to ../data\\MNIST\\raw\n",
      "Downloading http://yann.lecun.com/exdb/mnist/train-labels-idx1-ubyte.gz to ../data\\MNIST\\raw\\train-labels-idx1-ubyte.gz\n",
      "Extracting ../data\\MNIST\\raw\\train-labels-idx1-ubyte.gz to ../data\\MNIST\\raw\n",
      "Downloading http://yann.lecun.com/exdb/mnist/t10k-images-idx3-ubyte.gz to ../data\\MNIST\\raw\\t10k-images-idx3-ubyte.gz\n",
      "Extracting ../data\\MNIST\\raw\\t10k-images-idx3-ubyte.gz to ../data\\MNIST\\raw\n",
      "Downloading http://yann.lecun.com/exdb/mnist/t10k-labels-idx1-ubyte.gz to ../data\\MNIST\\raw\\t10k-labels-idx1-ubyte.gz\n",
      "Extracting ../data\\MNIST\\raw\\t10k-labels-idx1-ubyte.gz to ../data\\MNIST\\raw\n",
      "Processing...\n",
      "\n",
      "Done!\n"
     ],
     "output_type": "stream"
    },
    {
     "data": {
      "text/plain": "HBox(children=(FloatProgress(value=1.0, bar_style='info', max=1.0), HTML(value='')))",
      "application/vnd.jupyter.widget-view+json": {
       "version_major": 2,
       "version_minor": 0,
       "model_id": "e8963f9f29bc4a74b616865bef5b01be"
      }
     },
     "metadata": {},
     "output_type": "display_data"
    },
    {
     "data": {
      "text/plain": "HBox(children=(FloatProgress(value=1.0, bar_style='info', max=1.0), HTML(value='')))",
      "application/vnd.jupyter.widget-view+json": {
       "version_major": 2,
       "version_minor": 0,
       "model_id": "8b17d451b4434b2c8555696ef33d1192"
      }
     },
     "metadata": {},
     "output_type": "display_data"
    },
    {
     "data": {
      "text/plain": "HBox(children=(FloatProgress(value=1.0, bar_style='info', max=1.0), HTML(value='')))",
      "application/vnd.jupyter.widget-view+json": {
       "version_major": 2,
       "version_minor": 0,
       "model_id": "d6bfefc34acf44eca52c314ce4f29c1c"
      }
     },
     "metadata": {},
     "output_type": "display_data"
    },
    {
     "data": {
      "text/plain": "HBox(children=(FloatProgress(value=1.0, bar_style='info', max=1.0), HTML(value='')))",
      "application/vnd.jupyter.widget-view+json": {
       "version_major": 2,
       "version_minor": 0,
       "model_id": "1781baf6371e4704bbde6604c66f02c0"
      }
     },
     "metadata": {},
     "output_type": "display_data"
    },
    {
     "data": {
      "text/plain": "<torch.utils.data.dataloader.DataLoader at 0x1e897918c88>"
     },
     "metadata": {},
     "output_type": "execute_result",
     "execution_count": 7
    }
   ],
   "source": [
    "#run this box only if the the next box gives pipeline error\n",
    "torch.utils.data.DataLoader(\n",
    "    datasets.MNIST(\n",
    "        \"../data\",\n",
    "        train=True,download=True))"
   ]
  },
  {
   "cell_type": "code",
   "execution_count": 8,
   "metadata": {
    "pycharm": {
     "is_executing": false
    }
   },
   "outputs": [],
   "source": [
    "federated_train_loader = sy.FederatedDataLoader(\n",
    "    datasets.MNIST(\n",
    "        \"../data\",\n",
    "        train=True,\n",
    "        download=True,\n",
    "        transform=transforms.Compose(\n",
    "            [transforms.ToTensor(), transforms.Normalize((0.1307,), (0.3081,))]\n",
    "        ),\n",
    "    ).federate(tuple(workers)),\n",
    "    batch_size=args.batch_size,\n",
    "    shuffle=True,\n",
    "    iter_per_worker=True\n",
    ")\n",
    "\n",
    "test_loader = torch.utils.data.DataLoader(\n",
    "    datasets.MNIST(\n",
    "        \"../data\",\n",
    "        train=False,\n",
    "        transform=transforms.Compose(\n",
    "            [transforms.ToTensor(), transforms.Normalize((0.1307,), (0.3081,))]\n",
    "        ),\n",
    "    ),\n",
    "    batch_size=args.test_batch_size,\n",
    "    shuffle=True\n",
    ")\n"
   ]
  },
  {
   "cell_type": "markdown",
   "metadata": {},
   "source": [
    "Next, we need to instantiate the machine learning model. It is a small neural network with 2 convolutional and two fully connected layers. \n",
    "It uses ReLU activations and max pooling."
   ]
  },
  {
   "cell_type": "code",
   "execution_count": 9,
   "metadata": {
    "pycharm": {
     "is_executing": false
    }
   },
   "outputs": [
    {
     "name": "stdout",
     "text": [
      "Net(\n",
      "  (conv1): Conv2d(1, 20, kernel_size=(5, 5), stride=(1, 1))\n",
      "  (conv2): Conv2d(20, 50, kernel_size=(5, 5), stride=(1, 1))\n",
      "  (fc1): Linear(in_features=800, out_features=500, bias=True)\n",
      "  (fc2): Linear(in_features=500, out_features=10, bias=True)\n",
      ")\n"
     ],
     "output_type": "stream"
    }
   ],
   "source": [
    "model = rwc.Net().to(device)\n",
    "print(model)"
   ]
  },
  {
   "cell_type": "code",
   "execution_count": 10,
   "metadata": {
    "pycharm": {
     "is_executing": false
    }
   },
   "outputs": [],
   "source": [
    "import logging\n",
    "import sys\n",
    "logger = logging.getLogger()\n",
    "logger.setLevel(logging.DEBUG)\n",
    "handler = logging.StreamHandler(sys.stderr)\n",
    "formatter = logging.Formatter(\"%(asctime)s %(levelname)s %(filename)s(l:%(lineno)d) - %(message)s\")\n",
    "handler.setFormatter(formatter)\n",
    "logger.handlers = [handler]"
   ]
  },
  {
   "cell_type": "markdown",
   "metadata": {},
   "source": [
    "## Let's start the training\n",
    "\n",
    "\n",
    "Now we are ready to start the federated training. We will perform training over a given number of batches separately on each worker and then calculate the federated average of the resulting model and calculate test accuracy over that model."
   ]
  },
  {
   "cell_type": "code",
   "execution_count": 11,
   "metadata": {
    "pycharm": {
     "is_executing": false
    }
   },
   "outputs": [
    {
     "name": "stdout",
     "text": [
      "Starting epoch 1/2\n",
      "Starting epoch 2/2\n"
     ],
     "output_type": "stream"
    },
    {
     "name": "stderr",
     "text": [
      "2020-05-21 18:54:11,164 DEBUG run_websocket_client.py(l:130) - Starting training round, batches [0, 50]\n",
      "2020-05-21 18:54:11,743 DEBUG run_websocket_client.py(l:78) - Train Worker alice: [0/50 (0%)]\tLoss: 2.310694\n",
      "2020-05-21 18:54:15,854 DEBUG run_websocket_client.py(l:78) - Train Worker alice: [25/50 (50%)]\tLoss: 2.204359\n",
      "2020-05-21 18:54:23,689 DEBUG run_websocket_client.py(l:78) - Train Worker bob: [0/50 (0%)]\tLoss: 2.298535\n",
      "2020-05-21 18:54:27,587 DEBUG run_websocket_client.py(l:78) - Train Worker bob: [25/50 (50%)]\tLoss: 2.222379\n",
      "2020-05-21 18:54:35,045 DEBUG run_websocket_client.py(l:78) - Train Worker charlie: [0/50 (0%)]\tLoss: 2.314187\n",
      "2020-05-21 18:54:38,971 DEBUG run_websocket_client.py(l:78) - Train Worker charlie: [25/50 (50%)]\tLoss: 2.209582\n",
      "2020-05-21 18:55:14,183 DEBUG run_websocket_client.py(l:130) - Starting training round, batches [50, 100]\n",
      "2020-05-21 18:55:14,791 DEBUG run_websocket_client.py(l:78) - Train Worker alice: [0/50 (0%)]\tLoss: 2.071489\n",
      "2020-05-21 18:55:19,137 DEBUG run_websocket_client.py(l:78) - Train Worker alice: [25/50 (50%)]\tLoss: 1.756289\n",
      "2020-05-21 18:55:26,449 DEBUG run_websocket_client.py(l:78) - Train Worker bob: [0/50 (0%)]\tLoss: 2.031753\n",
      "2020-05-21 18:55:30,839 DEBUG run_websocket_client.py(l:78) - Train Worker bob: [25/50 (50%)]\tLoss: 1.829383\n",
      "2020-05-21 18:55:38,246 DEBUG run_websocket_client.py(l:78) - Train Worker charlie: [0/50 (0%)]\tLoss: 2.106262\n",
      "2020-05-21 18:55:42,248 DEBUG run_websocket_client.py(l:78) - Train Worker charlie: [25/50 (50%)]\tLoss: 1.713673\n",
      "2020-05-21 18:56:17,144 DEBUG run_websocket_client.py(l:130) - Starting training round, batches [100, 150]\n",
      "2020-05-21 18:56:17,718 DEBUG run_websocket_client.py(l:78) - Train Worker alice: [0/50 (0%)]\tLoss: 1.196625\n",
      "2020-05-21 18:56:22,150 DEBUG run_websocket_client.py(l:78) - Train Worker alice: [25/50 (50%)]\tLoss: 0.913841\n",
      "2020-05-21 18:56:29,105 DEBUG run_websocket_client.py(l:78) - Train Worker bob: [0/50 (0%)]\tLoss: 1.225325\n",
      "2020-05-21 18:56:33,048 DEBUG run_websocket_client.py(l:78) - Train Worker bob: [25/50 (50%)]\tLoss: 0.987809\n",
      "2020-05-21 18:56:40,207 DEBUG run_websocket_client.py(l:78) - Train Worker charlie: [0/50 (0%)]\tLoss: 1.251078\n",
      "2020-05-21 18:56:44,096 DEBUG run_websocket_client.py(l:78) - Train Worker charlie: [25/50 (50%)]\tLoss: 0.804727\n",
      "2020-05-21 18:57:18,564 DEBUG run_websocket_client.py(l:130) - Starting training round, batches [150, 200]\n",
      "2020-05-21 18:57:18,989 DEBUG run_websocket_client.py(l:78) - Train Worker alice: [0/50 (0%)]\tLoss: 0.593509\n",
      "2020-05-21 18:57:23,075 DEBUG run_websocket_client.py(l:78) - Train Worker alice: [25/50 (50%)]\tLoss: 0.623858\n",
      "2020-05-21 18:57:31,111 DEBUG run_websocket_client.py(l:78) - Train Worker bob: [0/50 (0%)]\tLoss: 0.602492\n",
      "2020-05-21 18:57:36,635 DEBUG run_websocket_client.py(l:78) - Train Worker bob: [25/50 (50%)]\tLoss: 0.504871\n",
      "2020-05-21 18:57:44,201 DEBUG run_websocket_client.py(l:78) - Train Worker charlie: [0/50 (0%)]\tLoss: 0.615751\n",
      "2020-05-21 18:57:48,129 DEBUG run_websocket_client.py(l:78) - Train Worker charlie: [25/50 (50%)]\tLoss: 0.596610\n",
      "2020-05-21 18:58:25,601 DEBUG run_websocket_client.py(l:130) - Starting training round, batches [200, 250]\n",
      "2020-05-21 18:58:26,050 DEBUG run_websocket_client.py(l:78) - Train Worker alice: [0/50 (0%)]\tLoss: 0.370628\n",
      "2020-05-21 18:58:30,069 DEBUG run_websocket_client.py(l:78) - Train Worker alice: [25/50 (50%)]\tLoss: 0.519906\n",
      "2020-05-21 18:58:37,807 DEBUG run_websocket_client.py(l:78) - Train Worker bob: [0/50 (0%)]\tLoss: 0.387546\n",
      "2020-05-21 18:58:42,534 DEBUG run_websocket_client.py(l:78) - Train Worker bob: [25/50 (50%)]\tLoss: 0.425145\n",
      "2020-05-21 18:58:50,574 DEBUG run_websocket_client.py(l:78) - Train Worker charlie: [0/50 (0%)]\tLoss: 0.468455\n",
      "2020-05-21 18:58:55,294 DEBUG run_websocket_client.py(l:78) - Train Worker charlie: [25/50 (50%)]\tLoss: 0.270083\n",
      "2020-05-21 18:59:31,216 DEBUG run_websocket_client.py(l:130) - Starting training round, batches [250, 300]\n",
      "2020-05-21 18:59:31,649 DEBUG run_websocket_client.py(l:78) - Train Worker alice: [0/50 (0%)]\tLoss: 0.275282\n",
      "2020-05-21 18:59:35,613 DEBUG run_websocket_client.py(l:78) - Train Worker alice: [25/50 (50%)]\tLoss: 0.284347\n",
      "2020-05-21 18:59:42,936 DEBUG run_websocket_client.py(l:78) - Train Worker bob: [0/50 (0%)]\tLoss: 0.286997\n",
      "2020-05-21 18:59:47,089 DEBUG run_websocket_client.py(l:78) - Train Worker bob: [25/50 (50%)]\tLoss: 0.333265\n",
      "2020-05-21 18:59:54,826 DEBUG run_websocket_client.py(l:78) - Train Worker charlie: [0/50 (0%)]\tLoss: 0.309028\n",
      "2020-05-21 18:59:59,665 DEBUG run_websocket_client.py(l:78) - Train Worker charlie: [25/50 (50%)]\tLoss: 0.367015\n",
      "2020-05-21 19:00:15,324 DEBUG run_websocket_client.py(l:130) - Starting training round, batches [300, 350]\n",
      "2020-05-21 19:00:15,709 DEBUG run_websocket_client.py(l:78) - Train Worker alice: [0/13 (0%)]\tLoss: 0.288997\n",
      "2020-05-21 19:00:21,240 DEBUG run_websocket_client.py(l:78) - Train Worker bob: [0/13 (0%)]\tLoss: 0.315084\n",
      "2020-05-21 19:00:26,546 DEBUG run_websocket_client.py(l:78) - Train Worker charlie: [0/13 (0%)]\tLoss: 0.173363\n",
      "2020-05-21 19:00:32,154 DEBUG run_websocket_client.py(l:130) - Starting training round, batches [350, 400]\n",
      "2020-05-21 19:00:32,174 DEBUG run_websocket_client.py(l:142) - At least one worker ran out of data, stopping.\n",
      "2020-05-21 19:00:37,443 DEBUG run_websocket_client.py(l:166) - \n",
      "\n",
      "2020-05-21 19:00:37,444 INFO run_websocket_client.py(l:170) - Test set: Average loss: 0.3283, Accuracy: 9022/10000 (90%)\n",
      "\n",
      "2020-05-21 19:01:05,463 DEBUG run_websocket_client.py(l:130) - Starting training round, batches [0, 50]\n",
      "2020-05-21 19:01:05,777 DEBUG run_websocket_client.py(l:78) - Train Worker alice: [0/50 (0%)]\tLoss: 0.270903\n",
      "2020-05-21 19:01:11,131 DEBUG run_websocket_client.py(l:78) - Train Worker alice: [25/50 (50%)]\tLoss: 0.447735\n",
      "2020-05-21 19:01:19,209 DEBUG run_websocket_client.py(l:78) - Train Worker bob: [0/50 (0%)]\tLoss: 0.380331\n",
      "2020-05-21 19:01:23,341 DEBUG run_websocket_client.py(l:78) - Train Worker bob: [25/50 (50%)]\tLoss: 0.445110\n",
      "2020-05-21 19:01:31,654 DEBUG run_websocket_client.py(l:78) - Train Worker charlie: [0/50 (0%)]\tLoss: 0.381547\n",
      "2020-05-21 19:01:35,714 DEBUG run_websocket_client.py(l:78) - Train Worker charlie: [25/50 (50%)]\tLoss: 0.317908\n",
      "2020-05-21 19:02:11,864 DEBUG run_websocket_client.py(l:130) - Starting training round, batches [50, 100]\n",
      "2020-05-21 19:02:12,310 DEBUG run_websocket_client.py(l:78) - Train Worker alice: [0/50 (0%)]\tLoss: 0.275412\n",
      "2020-05-21 19:02:16,269 DEBUG run_websocket_client.py(l:78) - Train Worker alice: [25/50 (50%)]\tLoss: 0.230319\n",
      "2020-05-21 19:02:23,741 DEBUG run_websocket_client.py(l:78) - Train Worker bob: [0/50 (0%)]\tLoss: 0.331758\n",
      "2020-05-21 19:02:27,697 DEBUG run_websocket_client.py(l:78) - Train Worker bob: [25/50 (50%)]\tLoss: 0.349031\n",
      "2020-05-21 19:02:34,869 DEBUG run_websocket_client.py(l:78) - Train Worker charlie: [0/50 (0%)]\tLoss: 0.205177\n",
      "2020-05-21 19:02:38,721 DEBUG run_websocket_client.py(l:78) - Train Worker charlie: [25/50 (50%)]\tLoss: 0.295710\n",
      "2020-05-21 19:03:12,420 DEBUG run_websocket_client.py(l:130) - Starting training round, batches [100, 150]\n",
      "2020-05-21 19:03:12,867 DEBUG run_websocket_client.py(l:78) - Train Worker alice: [0/50 (0%)]\tLoss: 0.410400\n",
      "2020-05-21 19:03:16,700 DEBUG run_websocket_client.py(l:78) - Train Worker alice: [25/50 (50%)]\tLoss: 0.126664\n",
      "2020-05-21 19:03:23,980 DEBUG run_websocket_client.py(l:78) - Train Worker bob: [0/50 (0%)]\tLoss: 0.192095\n",
      "2020-05-21 19:03:27,935 DEBUG run_websocket_client.py(l:78) - Train Worker bob: [25/50 (50%)]\tLoss: 0.179145\n",
      "2020-05-21 19:03:35,290 DEBUG run_websocket_client.py(l:78) - Train Worker charlie: [0/50 (0%)]\tLoss: 0.309659\n",
      "2020-05-21 19:03:39,280 DEBUG run_websocket_client.py(l:78) - Train Worker charlie: [25/50 (50%)]\tLoss: 0.510824\n",
      "2020-05-21 19:04:14,130 DEBUG run_websocket_client.py(l:130) - Starting training round, batches [150, 200]\n",
      "2020-05-21 19:04:14,547 DEBUG run_websocket_client.py(l:78) - Train Worker alice: [0/50 (0%)]\tLoss: 0.121520\n",
      "2020-05-21 19:04:18,534 DEBUG run_websocket_client.py(l:78) - Train Worker alice: [25/50 (50%)]\tLoss: 0.334606\n",
      "2020-05-21 19:04:26,308 DEBUG run_websocket_client.py(l:78) - Train Worker bob: [0/50 (0%)]\tLoss: 0.240802\n",
      "2020-05-21 19:04:30,524 DEBUG run_websocket_client.py(l:78) - Train Worker bob: [25/50 (50%)]\tLoss: 0.251873\n",
      "2020-05-21 19:04:39,058 DEBUG run_websocket_client.py(l:78) - Train Worker charlie: [0/50 (0%)]\tLoss: 0.243094\n",
      "2020-05-21 19:04:43,114 DEBUG run_websocket_client.py(l:78) - Train Worker charlie: [25/50 (50%)]\tLoss: 0.151475\n",
      "2020-05-21 19:05:17,161 DEBUG run_websocket_client.py(l:130) - Starting training round, batches [200, 250]\n",
      "2020-05-21 19:05:17,605 DEBUG run_websocket_client.py(l:78) - Train Worker alice: [0/50 (0%)]\tLoss: 0.177000\n",
      "2020-05-21 19:05:21,697 DEBUG run_websocket_client.py(l:78) - Train Worker alice: [25/50 (50%)]\tLoss: 0.169541\n",
      "2020-05-21 19:05:29,092 DEBUG run_websocket_client.py(l:78) - Train Worker bob: [0/50 (0%)]\tLoss: 0.294151\n",
      "2020-05-21 19:05:33,199 DEBUG run_websocket_client.py(l:78) - Train Worker bob: [25/50 (50%)]\tLoss: 0.263570\n",
      "2020-05-21 19:05:41,708 DEBUG run_websocket_client.py(l:78) - Train Worker charlie: [0/50 (0%)]\tLoss: 0.191589\n",
      "2020-05-21 19:05:46,089 DEBUG run_websocket_client.py(l:78) - Train Worker charlie: [25/50 (50%)]\tLoss: 0.232400\n",
      "2020-05-21 19:06:25,465 DEBUG run_websocket_client.py(l:130) - Starting training round, batches [250, 300]\n",
      "2020-05-21 19:06:25,929 DEBUG run_websocket_client.py(l:78) - Train Worker alice: [0/50 (0%)]\tLoss: 0.224658\n",
      "2020-05-21 19:06:29,968 DEBUG run_websocket_client.py(l:78) - Train Worker alice: [25/50 (50%)]\tLoss: 0.322743\n",
      "2020-05-21 19:06:37,595 DEBUG run_websocket_client.py(l:78) - Train Worker bob: [0/50 (0%)]\tLoss: 0.207854\n",
      "2020-05-21 19:06:41,641 DEBUG run_websocket_client.py(l:78) - Train Worker bob: [25/50 (50%)]\tLoss: 0.580847\n",
      "2020-05-21 19:06:50,852 DEBUG run_websocket_client.py(l:78) - Train Worker charlie: [0/50 (0%)]\tLoss: 0.093290\n",
      "2020-05-21 19:06:55,460 DEBUG run_websocket_client.py(l:78) - Train Worker charlie: [25/50 (50%)]\tLoss: 0.251022\n",
      "2020-05-21 19:07:11,794 DEBUG run_websocket_client.py(l:130) - Starting training round, batches [300, 350]\n",
      "2020-05-21 19:07:12,250 DEBUG run_websocket_client.py(l:78) - Train Worker alice: [0/13 (0%)]\tLoss: 0.232672\n",
      "2020-05-21 19:07:18,486 DEBUG run_websocket_client.py(l:78) - Train Worker bob: [0/13 (0%)]\tLoss: 0.103557\n",
      "2020-05-21 19:07:24,779 DEBUG run_websocket_client.py(l:78) - Train Worker charlie: [0/13 (0%)]\tLoss: 0.353147\n",
      "2020-05-21 19:07:30,702 DEBUG run_websocket_client.py(l:130) - Starting training round, batches [350, 400]\n",
      "2020-05-21 19:07:30,726 DEBUG run_websocket_client.py(l:142) - At least one worker ran out of data, stopping.\n",
      "2020-05-21 19:07:36,014 DEBUG run_websocket_client.py(l:166) - \n",
      "\n",
      "2020-05-21 19:07:36,016 INFO run_websocket_client.py(l:170) - Test set: Average loss: 0.2076, Accuracy: 9376/10000 (94%)\n",
      "\n"
     ],
     "output_type": "stream"
    }
   ],
   "source": [
    "for epoch in range(1, args.epochs + 1):\n",
    "    print(\"Starting epoch {}/{}\".format(epoch, args.epochs))\n",
    "    model = rwc.train(model, device, federated_train_loader, args.lr, args.federate_after_n_batches, \n",
    "                      abort_after_one=abort_after_one)\n",
    "    rwc.test(model, device, test_loader)"
   ]
  },
  {
   "cell_type": "markdown",
   "metadata": {},
   "source": [
    "# Congratulations!!! - Time to Join the Community!\n",
    "\n",
    "Congratulations on completing this notebook tutorial! If you enjoyed this and would like to join the movement toward privacy preserving, decentralized ownership of AI and the AI supply chain (data), you can do so in the following ways!\n",
    "\n",
    "### Star PySyft on GitHub\n",
    "\n",
    "The easiest way to help our community is just by starring the GitHub repos! This helps raise awareness of the cool tools we're building.\n",
    "\n",
    "- [Star PySyft](https://github.com/OpenMined/PySyft)\n",
    "\n",
    "### Join our Slack!\n",
    "\n",
    "The best way to keep up to date on the latest advancements is to join our community! You can do so by filling out the form at [http://slack.openmined.org](http://slack.openmined.org)\n",
    "\n",
    "### Join a Code Project!\n",
    "\n",
    "The best way to contribute to our community is to become a code contributor! At any time you can go to PySyft GitHub Issues page and filter for \"Projects\". This will show you all the top level Tickets giving an overview of what projects you can join! If you don't want to join a project, but you would like to do a bit of coding, you can also look for more \"one off\" mini-projects by searching for GitHub issues marked \"good first issue\".\n",
    "\n",
    "- [PySyft Projects](https://github.com/OpenMined/PySyft/issues?q=is%3Aopen+is%3Aissue+label%3AProject)\n",
    "- [Good First Issue Tickets](https://github.com/OpenMined/PySyft/issues?q=is%3Aopen+is%3Aissue+label%3A%22good+first+issue%22)\n",
    "\n",
    "### Donate\n",
    "\n",
    "If you don't have time to contribute to our codebase, but would still like to lend support, you can also become a Backer on our Open Collective. All donations go toward our web hosting and other community expenses such as hackathons and meetups!\n",
    "\n",
    "[OpenMined's Open Collective Page](https://opencollective.com/openmined)"
   ]
  }
 ],
 "metadata": {
  "kernelspec": {
   "display_name": "Python 3",
   "language": "python",
   "name": "python3"
  },
  "language_info": {
   "codemirror_mode": {
    "name": "ipython",
    "version": 3
   },
   "file_extension": ".py",
   "mimetype": "text/x-python",
   "name": "python",
   "nbconvert_exporter": "python",
   "pygments_lexer": "ipython3",
   "version": "3.7.5"
  }
 },
 "nbformat": 4,
 "nbformat_minor": 4
}